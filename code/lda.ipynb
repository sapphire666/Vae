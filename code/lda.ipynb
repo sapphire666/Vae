{
 "cells": [
  {
   "cell_type": "code",
   "execution_count": 1,
   "metadata": {
    "collapsed": true
   },
   "outputs": [],
   "source": [
    "import pandas as pd\n",
    "from gensim import corpora, models\n",
    "inputfile  = '../raw/cutted.txt'\n",
    "stop = '../raw/stop.txt'\n",
    "output = '../raw/theme.txt'"
   ]
  },
  {
   "cell_type": "code",
   "execution_count": 2,
   "metadata": {
    "collapsed": false
   },
   "outputs": [
    {
     "data": {
      "text/html": [
       "<div>\n",
       "<table border=\"1\" class=\"dataframe\">\n",
       "  <thead>\n",
       "    <tr style=\"text-align: right;\">\n",
       "      <th></th>\n",
       "      <th>0</th>\n",
       "    </tr>\n",
       "  </thead>\n",
       "  <tbody>\n",
       "    <tr>\n",
       "      <th>1</th>\n",
       "      <td>词 :   许嵩</td>\n",
       "    </tr>\n",
       "    <tr>\n",
       "      <th>2</th>\n",
       "      <td>曲 :   许嵩</td>\n",
       "    </tr>\n",
       "    <tr>\n",
       "      <th>3</th>\n",
       "      <td>电影院 里 你 的 背影 还是 那么 纯情</td>\n",
       "    </tr>\n",
       "  </tbody>\n",
       "</table>\n",
       "</div>"
      ],
      "text/plain": [
       "                       0\n",
       "1               词 :   许嵩\n",
       "2               曲 :   许嵩\n",
       "3  电影院 里 你 的 背影 还是 那么 纯情"
      ]
     },
     "execution_count": 2,
     "metadata": {},
     "output_type": "execute_result"
    }
   ],
   "source": [
    "data = pd.read_csv(inputfile, encoding='utf-8', header=None,engine='python')\n",
    "stop = pd.read_csv(stop, encoding='utf-8', header=None, sep = 'Ubuntu',engine='python')\n",
    "stop = [' ', ''] + list(stop[0])\n",
    "data[1:4]"
   ]
  },
  {
   "cell_type": "code",
   "execution_count": 3,
   "metadata": {
    "collapsed": false
   },
   "outputs": [
    {
     "data": {
      "text/plain": [
       "['', '\\xe4\\xbd\\xa0', '\\xe6\\x88\\x91']"
      ]
     },
     "execution_count": 3,
     "metadata": {},
     "output_type": "execute_result"
    }
   ],
   "source": [
    "stop[1:4]"
   ]
  },
  {
   "cell_type": "code",
   "execution_count": 5,
   "metadata": {
    "collapsed": false
   },
   "outputs": [
    {
     "name": "stderr",
     "output_type": "stream",
     "text": [
      "/home/zepu/anaconda2/lib/python2.7/site-packages/ipykernel/__main__.py:1: UnicodeWarning: Unicode equal comparison failed to convert both arguments to Unicode - interpreting them as being unequal\n",
      "  if __name__ == '__main__':\n"
     ]
    },
    {
     "data": {
      "text/plain": [
       "0                                        [叹, 服]\n",
       "1                                  [词, :, 许, 嵩]\n",
       "2                                  [曲, :, 许, 嵩]\n",
       "3    [电, 影, 院, 里, 你, 的, 背, 影, 还, 是, 那, 么, 纯, 情]\n",
       "4                         [有, 种, 迷, 人, 的, 魅, 力]\n",
       "Name: 1, dtype: object"
      ]
     },
     "execution_count": 5,
     "metadata": {},
     "output_type": "execute_result"
    }
   ],
   "source": [
    "data[1] == data[0].apply(lambda x: [i for i in x if i not in stop]) # 逐词判断是否挺用\n",
    "data[1][0:5]"
   ]
  },
  {
   "cell_type": "code",
   "execution_count": 6,
   "metadata": {
    "collapsed": false
   },
   "outputs": [
    {
     "name": "stdout",
     "output_type": "stream",
     "text": [
      "Dictionary(2051 unique tokens: [u'\\u6000', u'\\u6302', u'\\u8000', u'\\u602a', u'\\u4f0a']...)\n"
     ]
    }
   ],
   "source": [
    "data_dict = corpora.Dictionary(data[1])# dictionary\n",
    "print data_dict"
   ]
  },
  {
   "cell_type": "code",
   "execution_count": 13,
   "metadata": {
    "collapsed": false
   },
   "outputs": [
    {
     "name": "stdout",
     "output_type": "stream",
     "text": [
      "[[(0, 1), (1, 1)], [(2, 1), (3, 1), (4, 1), (5, 1)], [(2, 1), (3, 1), (4, 1), (6, 1)], [(7, 1), (8, 1), (9, 1), (10, 1), (11, 1), (12, 1), (13, 1), (14, 1), (15, 1), (16, 2), (17, 1), (18, 1), (19, 1)], [(11, 1), (20, 1), (21, 1), (22, 1), (23, 1), (24, 1), (25, 1)]]\n"
     ]
    }
   ],
   "source": [
    "data_corpus = [data_dict.doc2bow(i) for i in data[1]] # corpus\n",
    "print data_corpus[0:5]"
   ]
  },
  {
   "cell_type": "code",
   "execution_count": 14,
   "metadata": {
    "collapsed": false
   },
   "outputs": [
    {
     "name": "stdout",
     "output_type": "stream",
     "text": [
      "0.048*的 + 0.033*我 + 0.026*一 + 0.019*不 + 0.018*是 + 0.015*你 + 0.015*在 + 0.013*有 + 0.011*天 + 0.011*人\n"
     ]
    }
   ],
   "source": [
    "data_lda = models.LdaModel(data_corpus, num_topics=3, id2word=data_dict)\n",
    "print data_lda.print_topic(0)"
   ]
  },
  {
   "cell_type": "code",
   "execution_count": 15,
   "metadata": {
    "collapsed": false
   },
   "outputs": [
    {
     "name": "stdout",
     "output_type": "stream",
     "text": [
      "0.030*的 + 0.017*我 + 0.016*你 + 0.011*一 + 0.010*: + 0.010*他 + 0.009*上 + 0.008*也 + 0.008*慢 + 0.008*不\n"
     ]
    }
   ],
   "source": [
    "print data_lda.print_topic(1)"
   ]
  },
  {
   "cell_type": "code",
   "execution_count": 16,
   "metadata": {
    "collapsed": false
   },
   "outputs": [
    {
     "name": "stdout",
     "output_type": "stream",
     "text": [
      "0.037*你 + 0.030*的 + 0.017*在 + 0.016*不 + 0.014*我 + 0.013*有 + 0.010*~ + 0.009*o + 0.009*天 + 0.008*地\n"
     ]
    }
   ],
   "source": [
    "print data_lda.print_topic(2)"
   ]
  },
  {
   "cell_type": "code",
   "execution_count": null,
   "metadata": {
    "collapsed": true
   },
   "outputs": [],
   "source": []
  }
 ],
 "metadata": {
  "kernelspec": {
   "display_name": "Python 2",
   "language": "python",
   "name": "python2"
  },
  "language_info": {
   "codemirror_mode": {
    "name": "ipython",
    "version": 2
   },
   "file_extension": ".py",
   "mimetype": "text/x-python",
   "name": "python",
   "nbconvert_exporter": "python",
   "pygments_lexer": "ipython2",
   "version": "2.7.11"
  }
 },
 "nbformat": 4,
 "nbformat_minor": 0
}
