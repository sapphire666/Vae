{
 "cells": [
  {
   "cell_type": "code",
   "execution_count": 7,
   "metadata": {
    "collapsed": true
   },
   "outputs": [],
   "source": [
    "import pandas as pd\n",
    "import jieba\n",
    "inputfile = '../raw/cleaned.txt'\n",
    "outputfile = '../raw/cutted.txt'"
   ]
  },
  {
   "cell_type": "code",
   "execution_count": 8,
   "metadata": {
    "collapsed": false
   },
   "outputs": [
    {
     "data": {
      "text/plain": [
       "1                   词 :   许嵩\n",
       "2                   曲 :   许嵩\n",
       "3      电影院 里 你 的 背影 还是 那么 纯情\n",
       "4                 有种 迷人 的 魅力\n",
       "5                隔 着 陌生 的 距离\n",
       "6        昨天 分手 你 止不住 眼泪 的 决堤\n",
       "7    还 问 我 为何 相爱 的 人 不能 在 一起\n",
       "8              你 的 过去 没 人 知道\n",
       "9               想 搜索 也 搜索 不到\n",
       "Name: 0, dtype: object"
      ]
     },
     "execution_count": 8,
     "metadata": {},
     "output_type": "execute_result"
    }
   ],
   "source": [
    "data = pd.read_csv(inputfile, encoding='utf-8', header=None)\n",
    "cut = lambda s: ' '.join(jieba.cut(s))\n",
    "cutted = data[0].apply(cut)\n",
    "cutted[1:10]"
   ]
  },
  {
   "cell_type": "code",
   "execution_count": 9,
   "metadata": {
    "collapsed": true
   },
   "outputs": [],
   "source": [
    "cutted.to_csv(outputfile, index=False, header=False, encoding='utf-8')"
   ]
  },
  {
   "cell_type": "code",
   "execution_count": null,
   "metadata": {
    "collapsed": true
   },
   "outputs": [],
   "source": []
  }
 ],
 "metadata": {
  "kernelspec": {
   "display_name": "Python 2",
   "language": "python",
   "name": "python2"
  },
  "language_info": {
   "codemirror_mode": {
    "name": "ipython",
    "version": 2
   },
   "file_extension": ".py",
   "mimetype": "text/x-python",
   "name": "python",
   "nbconvert_exporter": "python",
   "pygments_lexer": "ipython2",
   "version": "2.7.11"
  }
 },
 "nbformat": 4,
 "nbformat_minor": 0
}
