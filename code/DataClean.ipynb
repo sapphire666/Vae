{
 "cells": [
  {
   "cell_type": "markdown",
   "metadata": {},
   "source": [
    "### 读取许嵩的歌词txt文件"
   ]
  },
  {
   "cell_type": "code",
   "execution_count": 95,
   "metadata": {
    "collapsed": false
   },
   "outputs": [
    {
     "name": "stderr",
     "output_type": "stream",
     "text": [
      "Skipping line 523: expected 1 fields, saw 2\n",
      "Skipping line 1169: expected 1 fields, saw 2\n",
      "Skipping line 1370: expected 1 fields, saw 2\n",
      "\n"
     ]
    },
    {
     "data": {
      "text/html": [
       "<div>\n",
       "<table border=\"1\" class=\"dataframe\">\n",
       "  <thead>\n",
       "    <tr style=\"text-align: right;\">\n",
       "      <th></th>\n",
       "      <th>0</th>\n",
       "    </tr>\n",
       "  </thead>\n",
       "  <tbody>\n",
       "    <tr>\n",
       "      <th>0</th>\n",
       "      <td>叹服</td>\n",
       "    </tr>\n",
       "    <tr>\n",
       "      <th>1</th>\n",
       "      <td>词: 许嵩</td>\n",
       "    </tr>\n",
       "    <tr>\n",
       "      <th>2</th>\n",
       "      <td>曲: 许嵩</td>\n",
       "    </tr>\n",
       "    <tr>\n",
       "      <th>3</th>\n",
       "      <td>电影院里你的背影还是那么纯情</td>\n",
       "    </tr>\n",
       "    <tr>\n",
       "      <th>4</th>\n",
       "      <td>有种迷人的魅力</td>\n",
       "    </tr>\n",
       "    <tr>\n",
       "      <th>5</th>\n",
       "      <td>隔着陌生的距离</td>\n",
       "    </tr>\n",
       "    <tr>\n",
       "      <th>6</th>\n",
       "      <td>昨天分手你止不住眼泪的决堤</td>\n",
       "    </tr>\n",
       "  </tbody>\n",
       "</table>\n",
       "</div>"
      ],
      "text/plain": [
       "                0\n",
       "0              叹服\n",
       "1           词: 许嵩\n",
       "2           曲: 许嵩\n",
       "3  电影院里你的背影还是那么纯情\n",
       "4         有种迷人的魅力\n",
       "5         隔着陌生的距离\n",
       "6   昨天分手你止不住眼泪的决堤"
      ]
     },
     "execution_count": 95,
     "metadata": {},
     "output_type": "execute_result"
    }
   ],
   "source": [
    "import pandas as pd\n",
    "import numpy as np\n",
    "inputfile = '../raw/vae.txt'\n",
    "data = pd.read_csv(inputfile, encoding='utf-8', header=None,error_bad_lines=False)\n",
    "data[:7]"
   ]
  },
  {
   "cell_type": "markdown",
   "metadata": {},
   "source": [
    "### 数据去重\n",
    "\n",
    "#### 在没有进行去重之前的数据是3687行"
   ]
  },
  {
   "cell_type": "code",
   "execution_count": 96,
   "metadata": {
    "collapsed": false
   },
   "outputs": [
    {
     "data": {
      "text/plain": [
       "3687"
      ]
     },
     "execution_count": 96,
     "metadata": {},
     "output_type": "execute_result"
    }
   ],
   "source": [
    "outputfile  = '../raw/cleaned.txt'\n",
    "data_begin = data\n",
    "l1 = len(data_begin)\n",
    "l1"
   ]
  },
  {
   "cell_type": "code",
   "execution_count": 97,
   "metadata": {
    "collapsed": false
   },
   "outputs": [
    {
     "name": "stdout",
     "output_type": "stream",
     "text": [
      "删除了 1541 条重复的歌词\n"
     ]
    }
   ],
   "source": [
    "data_after = pd.DataFrame(data_begin[0].unique())#unique\t计算索引的唯一值数组\n",
    "# data_begin[0]是将文本做成一个list\n",
    "l2 = len(data_after)\n",
    "l2\n",
    "print '删除了 %s 条重复的歌词' %(l1-l2)"
   ]
  },
  {
   "cell_type": "markdown",
   "metadata": {},
   "source": [
    "#### 去重之后的数据是2146行"
   ]
  },
  {
   "cell_type": "code",
   "execution_count": 98,
   "metadata": {
    "collapsed": false
   },
   "outputs": [
    {
     "name": "stdout",
     "output_type": "stream",
     "text": [
      "=================去重之前的20-30行=====================\n",
      "                   0\n",
      "20  我也知道这个世界没有那么多的童话\n",
      "21    却还总是对那真爱抱有一丝幻想\n",
      "22  所以活该承受幻想与现实之间的落差\n",
      "23    虽然在他们的眼里我是一只傻瓜\n",
      "24              灰色头像\n",
      "25             词: 许嵩\n",
      "26             曲: 许嵩\n",
      "27           昨夜做了一个梦\n",
      "28        梦里我们回到手牵着手\n",
      "29             醒来的失落\n",
      "=================去重之后的20-30行=====================\n",
      "                   0\n",
      "21    却还总是对那真爱抱有一丝幻想\n",
      "22  所以活该承受幻想与现实之间的落差\n",
      "23    虽然在他们的眼里我是一只傻瓜\n",
      "24              灰色头像\n",
      "27           昨夜做了一个梦\n",
      "28        梦里我们回到手牵着手\n",
      "29             醒来的失落\n",
      "30              无法言说\n",
      "31           打开了OICQ\n",
      "32       聊天记录停步去年的深秋\n"
     ]
    }
   ],
   "source": [
    "print '=================去重之前的20-30行====================='\n",
    "print data_begin[20:30]\n",
    "isDuplicated = data_begin.duplicated()\n",
    "data_delete = data_begin.drop_duplicates()\n",
    "print '=================去重之后的20-30行====================='\n",
    "print data_delete[20:30]"
   ]
  },
  {
   "cell_type": "markdown",
   "metadata": {},
   "source": [
    "### 可以看到，在源文件中25,26这样的词语重复出现过，经过去重操作，便删除了"
   ]
  },
  {
   "cell_type": "code",
   "execution_count": 99,
   "metadata": {
    "collapsed": true
   },
   "outputs": [],
   "source": [
    "data_after.to_csv(outputfile, index=False, header=False, encoding='utf-8')"
   ]
  }
 ],
 "metadata": {
  "kernelspec": {
   "display_name": "Python 2",
   "language": "python",
   "name": "python2"
  },
  "language_info": {
   "codemirror_mode": {
    "name": "ipython",
    "version": 2
   },
   "file_extension": ".py",
   "mimetype": "text/x-python",
   "name": "python",
   "nbconvert_exporter": "python",
   "pygments_lexer": "ipython2",
   "version": "2.7.11"
  }
 },
 "nbformat": 4,
 "nbformat_minor": 0
}
