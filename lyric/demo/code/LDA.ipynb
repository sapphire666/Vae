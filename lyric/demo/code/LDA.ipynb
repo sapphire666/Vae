{
 "cells": [
  {
   "cell_type": "code",
   "execution_count": 1,
   "metadata": {
    "collapsed": false
   },
   "outputs": [],
   "source": [
    "# -*- coding: utf-8 -*-\n",
    "\"\"\"\n",
    "Created on Wed Jul 20 23:22:31 2016\n",
    "\n",
    "@author: QingLing\n",
    "\n",
    "YOU MUST USE Python3 !!!\n",
    "\"\"\"\n",
    "\n",
    "import pandas as pd\n",
    "from gensim import corpora,models\n",
    "\n",
    "inputfile = 'vae_cut.txt'\n",
    "stoplist = 'stoplist.txt'\n",
    "\n",
    "data = pd.read_csv(inputfile,encoding = 'utf-8', header =None)\n",
    "stop = pd.read_csv(stoplist, encoding = 'utf-8', header = None, sep = 'tipdm',engine='python')\n",
    "stop = [' ', ''] + list(stop[0])\n",
    "\n",
    "data[1] = data[0].apply(lambda s: s.split(' ')) #定义一个分割函数，然后用apply广播\n",
    "data[2] = data[1].apply(lambda x: [i for i in x if i not in stop]) #逐词判断是否停用词，思路同上\n",
    "\n",
    "\n",
    "data_dict = corpora.Dictionary(data[2])\n",
    "data_corpus = [data_dict.doc2bow(i) for i in data[2]]\n",
    "data_lda = models.LdaModel(data_corpus, num_topics=3, id2word=data_dict)\n",
    "\n",
    "#for i in range(3):\n",
    "#    data_lda.show_topic(i) #输出每个主题"
   ]
  },
  {
   "cell_type": "code",
   "execution_count": 2,
   "metadata": {
    "collapsed": false
   },
   "outputs": [
    {
     "data": {
      "text/plain": [
       "[('江南', 0.010046890663367973),\n",
       " ('爲', 0.0096304025741995071),\n",
       " ('出现', 0.009360053595514466),\n",
       " ('遥远', 0.0090152885755299499),\n",
       " ('一天', 0.0077767967899197085),\n",
       " ('是不是', 0.0075970419393452436),\n",
       " ('熟悉', 0.0065529568973141583),\n",
       " ('oh', 0.0062069396527368523),\n",
       " ('爱', 0.0056506573514577768),\n",
       " ('已经', 0.0054480787000476781)]"
      ]
     },
     "execution_count": 2,
     "metadata": {},
     "output_type": "execute_result"
    }
   ],
   "source": [
    "data_lda.show_topic(0)"
   ]
  },
  {
   "cell_type": "code",
   "execution_count": 3,
   "metadata": {
    "collapsed": false
   },
   "outputs": [
    {
     "data": {
      "text/plain": [
       "'0.010*江南 + 0.010*爲 + 0.009*出现 + 0.009*遥远 + 0.008*一天 + 0.008*是不是 + 0.007*熟悉 + 0.006*oh + 0.006*爱 + 0.005*已经'"
      ]
     },
     "execution_count": 3,
     "metadata": {},
     "output_type": "execute_result"
    }
   ],
   "source": [
    "data_lda.print_topic(0)"
   ]
  },
  {
   "cell_type": "code",
   "execution_count": 4,
   "metadata": {
    "collapsed": false
   },
   "outputs": [
    {
     "data": {
      "text/plain": [
       "[('天上', 0.01099094408244336),\n",
       " ('知道', 0.006872795706898885),\n",
       " ('感觉', 0.006211369465670526),\n",
       " ('欣赏', 0.0056887410509188809),\n",
       " ('壹点', 0.0055661131455228066),\n",
       " ('凉里', 0.0055661131455228066),\n",
       " ('温热', 0.0055661131455228066),\n",
       " ('夏末秋', 0.0055661131455228066),\n",
       " ('心', 0.005162452375828218),\n",
       " ('继续', 0.0049154757999358718)]"
      ]
     },
     "execution_count": 4,
     "metadata": {},
     "output_type": "execute_result"
    }
   ],
   "source": [
    "data_lda.show_topic(1)"
   ]
  },
  {
   "cell_type": "code",
   "execution_count": 5,
   "metadata": {
    "collapsed": false
   },
   "outputs": [
    {
     "data": {
      "text/plain": [
       "'0.011*天上 + 0.007*知道 + 0.006*感觉 + 0.006*欣赏 + 0.006*壹点 + 0.006*凉里 + 0.006*温热 + 0.006*夏末秋 + 0.005*心 + 0.005*继续'"
      ]
     },
     "execution_count": 5,
     "metadata": {},
     "output_type": "execute_result"
    }
   ],
   "source": [
    "data_lda.print_topic(1)"
   ]
  },
  {
   "cell_type": "code",
   "execution_count": 6,
   "metadata": {
    "collapsed": false
   },
   "outputs": [
    {
     "data": {
      "text/plain": [
       "[('一个', 0.0093363673021095214),\n",
       " ('街上', 0.0089543100524878405),\n",
       " ('从前', 0.0085768349896692964),\n",
       " ('爱', 0.0078875040462484738),\n",
       " ('告诉', 0.0065158023625872348),\n",
       " ('所有', 0.0063463597144536718),\n",
       " ('天上', 0.0062850505493226806),\n",
       " ('能够', 0.006169982114706144),\n",
       " ('慢慢', 0.0061588844666020442),\n",
       " ('世界', 0.0059739206689021851)]"
      ]
     },
     "execution_count": 6,
     "metadata": {},
     "output_type": "execute_result"
    }
   ],
   "source": [
    "data_lda.show_topic(2)"
   ]
  },
  {
   "cell_type": "code",
   "execution_count": 7,
   "metadata": {
    "collapsed": false
   },
   "outputs": [
    {
     "data": {
      "text/plain": [
       "'0.009*一个 + 0.009*街上 + 0.009*从前 + 0.008*爱 + 0.007*告诉 + 0.006*所有 + 0.006*天上 + 0.006*能够 + 0.006*慢慢 + 0.006*世界'"
      ]
     },
     "execution_count": 7,
     "metadata": {},
     "output_type": "execute_result"
    }
   ],
   "source": [
    "data_lda.print_topic(2)"
   ]
  },
  {
   "cell_type": "code",
   "execution_count": 8,
   "metadata": {
    "collapsed": false
   },
   "outputs": [
    {
     "data": {
      "text/plain": [
       "0                           [叹服]\n",
       "1                        [词, 许嵩]\n",
       "2                        [曲, 许嵩]\n",
       "3               [电影院, 里, 背影, 纯情]\n",
       "4                   [有种, 迷人, 魅力]\n",
       "5                    [隔, 陌生, 距离]\n",
       "6          [昨天, 分手, 止不住, 眼泪, 决堤]\n",
       "7                    [问, 相爱, 一起]\n",
       "8                       [过去, 知道]\n",
       "9                [想, 搜索, 搜索, 不到]\n",
       "10                  [我俩, 唯一, 合影]\n",
       "11                       [甜美, 笑]\n",
       "12                      [叹服, 技巧]\n",
       "13                  [爱情, 玩转, 巧妙]\n",
       "14               [心里, 早已, 设计, 好]\n",
       "15                      [时间, 丢掉]\n",
       "16                  [爱情, 玩转, 花哨]\n",
       "17                  [内心, 不配, 外表]\n",
       "18              [我该, 庆幸, 成功, 脱逃]\n",
       "19                  [知道, 世界, 童话]\n",
       "20      [却, 总是, 真, 爱, 抱, 一丝, 幻想]\n",
       "21      [活该, 承受, 幻想, 现实, 之间, 落差]\n",
       "22                  [眼里, 一只, 傻瓜]\n",
       "23                      [灰色, 头像]\n",
       "24                [昨夜, 做, 一个, 梦]\n",
       "25              [梦里, 回到, 手牵着, 手]\n",
       "26                      [醒来, 失落]\n",
       "27                      [无法, 言说]\n",
       "28                    [打开, OICQ]\n",
       "29            [聊天记录, 停步, 去年, 深秋]\n",
       "                  ...           \n",
       "2116                 [发现, 似, 神仙]\n",
       "2117                    [一遍, 两遍]\n",
       "2118                    [甜美, 简单]\n",
       "2119                       [乌蓬船]\n",
       "2120                  [能载, 我驶多远]\n",
       "2121                  [底, 悬, 屋檐]\n",
       "2122                   [是不是, 不见]\n",
       "2123                    [巷弄, 里边]\n",
       "2124                    [奇迹, 出现]\n",
       "2125                 [风吹, 杨柳, 岸]\n",
       "2126                       [wow]\n",
       "2127      [现实, 梦, 中, 差距, 似乎, 遥远]\n",
       "2128            [知道, 是否, 奇迹, 出现]\n",
       "2129                   [站, 近水楼台]\n",
       "2130                     [站, 时代]\n",
       "2131                [是否, 有人, 感觉]\n",
       "2132                [风景, 自成, 一派]\n",
       "2133                [想法, 无法, 阻碍]\n",
       "2134             [但梦中, 似乎, 最, 爱]\n",
       "2135            [是不是, 中, 江南, 特产]\n",
       "2136          [我用, 一分钟, 思考, 是不是]\n",
       "2137                    [回到, 从前]\n",
       "2138                    [宽敞, 宅院]\n",
       "2139            [常春, 藤, 悄悄的, 蔓延]\n",
       "2140         [熟悉, 笑容, 依然, 挂, 嘴边]\n",
       "2141           [是不是, 回到, 遥远, 从前]\n",
       "2142        [只, 一分钟, 足以, 代替, 永远]\n",
       "2143            [抿嘴, 笑颜, 羞涩, 蔓延]\n",
       "2144        [画面, 定格, 邂逅, 巷弄, 里边]\n",
       "2145                    [忘记, 时间]\n",
       "Name: 2, dtype: object"
      ]
     },
     "execution_count": 8,
     "metadata": {},
     "output_type": "execute_result"
    }
   ],
   "source": [
    "data[2]"
   ]
  },
  {
   "cell_type": "code",
   "execution_count": null,
   "metadata": {
    "collapsed": true
   },
   "outputs": [],
   "source": []
  }
 ],
 "metadata": {
  "anaconda-cloud": {},
  "kernelspec": {
   "display_name": "Python [Root]",
   "language": "python",
   "name": "Python [Root]"
  },
  "language_info": {
   "codemirror_mode": {
    "name": "ipython",
    "version": 3
   },
   "file_extension": ".py",
   "mimetype": "text/x-python",
   "name": "python",
   "nbconvert_exporter": "python",
   "pygments_lexer": "ipython3",
   "version": "3.5.2"
  }
 },
 "nbformat": 4,
 "nbformat_minor": 0
}
