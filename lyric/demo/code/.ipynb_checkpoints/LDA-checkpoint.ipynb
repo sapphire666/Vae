{
 "cells": [
  {
   "cell_type": "code",
   "execution_count": 6,
   "metadata": {
    "collapsed": false
   },
   "outputs": [],
   "source": [
    "# -*- coding: utf-8 -*-\n",
    "\"\"\"\n",
    "Created on Wed Jul 20 23:22:31 2016\n",
    "\n",
    "@author: QingLing\n",
    "\n",
    "YOU MUST USE Python3 !!!\n",
    "\"\"\"\n",
    "\n",
    "import pandas as pd\n",
    "from gensim import corpora,models\n",
    "\n",
    "inputfile = 'vae_cut.txt'\n",
    "stoplist = 'stoplist.txt'\n",
    "\n",
    "data = pd.read_csv(inputfile,encoding = 'utf-8', header =None)\n",
    "stop = pd.read_csv(stoplist, encoding = 'utf-8', header = None, sep = 'tipdm',engine='python')\n",
    "stop = [' ', ''] + list(stop[0])\n",
    "\n",
    "data[1] = data[0].apply(lambda s: s.split(' ')) #定义一个分割函数，然后用apply广播\n",
    "data[2] = data[1].apply(lambda x: [i for i in x if i not in stop]) #逐词判断是否停用词，思路同上\n",
    "\n",
    "\n",
    "data_dict = corpora.Dictionary(data[2])\n",
    "data_corpus = [data_dict.doc2bow(i) for i in data[2]]\n",
    "data_lda = models.LdaModel(data_corpus, num_topics=3, id2word=data_dict)\n",
    "\n",
    "#for i in range(3):\n",
    "#    data_lda.show_topic(i) #输出每个主题"
   ]
  },
  {
   "cell_type": "code",
   "execution_count": 7,
   "metadata": {
    "collapsed": false
   },
   "outputs": [
    {
     "data": {
      "text/plain": [
       "[('爲', 0.009593227347721927),\n",
       " ('做', 0.0078062528749630704),\n",
       " ('从前', 0.0073635195143141857),\n",
       " ('知道', 0.0054983219332605882),\n",
       " ('离别', 0.0053893493657538845),\n",
       " ('奇迹', 0.0053238413604284043),\n",
       " ('欣赏', 0.0053000140509762601),\n",
       " ('oh', 0.0051696180243008625),\n",
       " ('蔓延', 0.0051528406456243965),\n",
       " ('涂鸦', 0.0051084714331519083)]"
      ]
     },
     "execution_count": 7,
     "metadata": {},
     "output_type": "execute_result"
    }
   ],
   "source": [
    "data_lda.show_topic(0)"
   ]
  },
  {
   "cell_type": "code",
   "execution_count": 8,
   "metadata": {
    "collapsed": false
   },
   "outputs": [
    {
     "data": {
      "text/plain": [
       "'0.010*爲 + 0.008*做 + 0.007*从前 + 0.005*知道 + 0.005*离别 + 0.005*奇迹 + 0.005*欣赏 + 0.005*oh + 0.005*蔓延 + 0.005*涂鸦'"
      ]
     },
     "execution_count": 8,
     "metadata": {},
     "output_type": "execute_result"
    }
   ],
   "source": [
    "data_lda.print_topic(0)"
   ]
  },
  {
   "cell_type": "code",
   "execution_count": 9,
   "metadata": {
    "collapsed": false
   },
   "outputs": [
    {
     "data": {
      "text/plain": [
       "[('一个', 0.011135682154775558),\n",
       " ('遥远', 0.010512148879536012),\n",
       " ('江南', 0.010486761155738789),\n",
       " ('世界', 0.0087077879613991632),\n",
       " ('出现', 0.0080178968451649138),\n",
       " ('爱', 0.0078191232626236111),\n",
       " ('熟悉', 0.006302483446155983),\n",
       " ('最', 0.006295691618957237),\n",
       " ('一天', 0.0060034661809423859),\n",
       " ('似乎', 0.0059580914016051784)]"
      ]
     },
     "execution_count": 9,
     "metadata": {},
     "output_type": "execute_result"
    }
   ],
   "source": [
    "data_lda.show_topic(1)"
   ]
  },
  {
   "cell_type": "code",
   "execution_count": 11,
   "metadata": {
    "collapsed": false
   },
   "outputs": [
    {
     "data": {
      "text/plain": [
       "'0.011*一个 + 0.011*遥远 + 0.010*江南 + 0.009*世界 + 0.008*出现 + 0.008*爱 + 0.006*熟悉 + 0.006*最 + 0.006*一天 + 0.006*似乎'"
      ]
     },
     "execution_count": 11,
     "metadata": {},
     "output_type": "execute_result"
    }
   ],
   "source": [
    "data_lda.print_topic(1)"
   ]
  },
  {
   "cell_type": "code",
   "execution_count": 12,
   "metadata": {
    "collapsed": false
   },
   "outputs": [
    {
     "data": {
      "text/plain": [
       "[('天上', 0.018481138921314349),\n",
       " ('是不是', 0.010690623226542345),\n",
       " ('感觉', 0.0063080834244996194),\n",
       " ('穿', 0.0062788391746697288),\n",
       " ('只', 0.0062744214157755681),\n",
       " ('站', 0.0062496252718657226),\n",
       " ('街上', 0.0061668945503338974),\n",
       " ('爱', 0.0061617079868426204),\n",
       " ('无情', 0.0061222548176715031),\n",
       " ('前', 0.0059384075431694345)]"
      ]
     },
     "execution_count": 12,
     "metadata": {},
     "output_type": "execute_result"
    }
   ],
   "source": [
    "data_lda.show_topic(2)"
   ]
  },
  {
   "cell_type": "code",
   "execution_count": 13,
   "metadata": {
    "collapsed": false
   },
   "outputs": [
    {
     "data": {
      "text/plain": [
       "'0.018*天上 + 0.011*是不是 + 0.006*感觉 + 0.006*穿 + 0.006*只 + 0.006*站 + 0.006*街上 + 0.006*爱 + 0.006*无情 + 0.006*前'"
      ]
     },
     "execution_count": 13,
     "metadata": {},
     "output_type": "execute_result"
    }
   ],
   "source": [
    "data_lda.print_topic(2)"
   ]
  },
  {
   "cell_type": "code",
   "execution_count": null,
   "metadata": {
    "collapsed": true
   },
   "outputs": [],
   "source": []
  }
 ],
 "metadata": {
  "anaconda-cloud": {},
  "kernelspec": {
   "display_name": "Python [Root]",
   "language": "python",
   "name": "Python [Root]"
  },
  "language_info": {
   "codemirror_mode": {
    "name": "ipython",
    "version": 3
   },
   "file_extension": ".py",
   "mimetype": "text/x-python",
   "name": "python",
   "nbconvert_exporter": "python",
   "pygments_lexer": "ipython3",
   "version": "3.5.2"
  }
 },
 "nbformat": 4,
 "nbformat_minor": 0
}
