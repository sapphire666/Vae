{
 "cells": [
  {
   "cell_type": "code",
   "execution_count": 1,
   "metadata": {
    "collapsed": true
   },
   "outputs": [],
   "source": [
    "# -*- coding: utf-8 -*-\n",
    "\"\"\"\n",
    "Created on Thu Jul 21 09:42:06 2016\n",
    "\n",
    "@author: QingLing\n",
    "\"\"\"\n",
    "\n",
    "import pandas as pd\n",
    "from gensim import  corpora, models\n",
    "\n",
    "inputfile = 'jay_cut.txt'\n",
    "stoplist = 'stoplist.txt'\n",
    "\n",
    "data = pd.read_csv(inputfile,encoding = 'utf-8', header =None)\n",
    "stop = pd.read_csv(stoplist, encoding = 'utf-8', header = None, sep = 'tipdm',engine='python')\n",
    "stop = [' ', '','☆','〖','〗','周杰伦','歌词', '作曲'] + list(stop[0])\n",
    "\n",
    "data[1] = data[0].apply(lambda s: s.split(' ')) #定义一个分割函数，然后用apply广播\n",
    "data[2] = data[1].apply(lambda x: [i for i in x if i not in stop]) #逐词判断是否停用词，思路同上\n",
    "\n",
    "\n",
    "data_dict = corpora.Dictionary(data[2])\n",
    "data_corpus = [data_dict.doc2bow(i) for i in data[2]]\n",
    "data_lda = models.LdaModel(data_corpus, num_topics=3, id2word=data_dict)\n",
    "\n",
    "#for i in range(3):\n",
    "#    data_lda.show_topic(i) #输出每个主题"
   ]
  },
  {
   "cell_type": "code",
   "execution_count": 2,
   "metadata": {
    "collapsed": false
   },
   "outputs": [
    {
     "data": {
      "text/plain": [
       "[('爱', 0.010156874728829028),\n",
       " ('想', 0.0062931469025495537),\n",
       " ('过去', 0.0048742747261568244),\n",
       " ('知道', 0.0048410521654918591),\n",
       " ('画面', 0.0046055667950463007),\n",
       " ('一直', 0.0043582240274751072),\n",
       " ('梦', 0.0043165580272348644),\n",
       " ('却', 0.0040534136927138044),\n",
       " ('娘子', 0.0039475300322702623),\n",
       " ('听', 0.0038343492088169398)]"
      ]
     },
     "execution_count": 2,
     "metadata": {},
     "output_type": "execute_result"
    }
   ],
   "source": [
    "data_lda.show_topic(0)"
   ]
  },
  {
   "cell_type": "code",
   "execution_count": 3,
   "metadata": {
    "collapsed": false
   },
   "outputs": [
    {
     "data": {
      "text/plain": [
       "'0.010*爱 + 0.006*想 + 0.005*过去 + 0.005*知道 + 0.005*画面 + 0.004*一直 + 0.004*梦 + 0.004*却 + 0.004*娘子 + 0.004*听'"
      ]
     },
     "execution_count": 3,
     "metadata": {},
     "output_type": "execute_result"
    }
   ],
   "source": [
    "data_lda.print_topic(0)"
   ]
  },
  {
   "cell_type": "code",
   "execution_count": 4,
   "metadata": {
    "collapsed": false
   },
   "outputs": [
    {
     "data": {
      "text/plain": [
       "[('时间', 0.0092889167389730663),\n",
       " ('想', 0.0088273396063468478),\n",
       " ('回忆', 0.0055721965845191871),\n",
       " ('我会', 0.004315227660421795),\n",
       " ('只', 0.0037738237433200214),\n",
       " ('笑', 0.0037148234044564765),\n",
       " ('却', 0.0037099575024811403),\n",
       " ('想要', 0.0035903842507890682),\n",
       " ('温柔', 0.0034606105921876555),\n",
       " ('忘记', 0.0032395834245856196)]"
      ]
     },
     "execution_count": 4,
     "metadata": {},
     "output_type": "execute_result"
    }
   ],
   "source": [
    "data_lda.show_topic(1)"
   ]
  },
  {
   "cell_type": "code",
   "execution_count": 5,
   "metadata": {
    "collapsed": false
   },
   "outputs": [
    {
     "data": {
      "text/plain": [
       "'0.009*时间 + 0.009*想 + 0.006*回忆 + 0.004*我会 + 0.004*只 + 0.004*笑 + 0.004*却 + 0.004*想要 + 0.003*温柔 + 0.003*忘记'"
      ]
     },
     "execution_count": 5,
     "metadata": {},
     "output_type": "execute_result"
    }
   ],
   "source": [
    "data_lda.print_topic(1)"
   ]
  },
  {
   "cell_type": "code",
   "execution_count": 6,
   "metadata": {
    "collapsed": false
   },
   "outputs": [
    {
     "data": {
      "text/plain": [
       "[('爱', 0.0054817138523986743),\n",
       " ('再', 0.0051822456804373248),\n",
       " ('好', 0.0050972915725308867),\n",
       " ('最后', 0.0045064681401124958),\n",
       " ('一种', 0.0045016765631715862),\n",
       " ('风', 0.003873550096223212),\n",
       " ('回忆', 0.0035663670281703592),\n",
       " ('知道', 0.0035615408822098843),\n",
       " ('做', 0.0034288858832326251),\n",
       " ('眼泪', 0.0032734800314893667)]"
      ]
     },
     "execution_count": 6,
     "metadata": {},
     "output_type": "execute_result"
    }
   ],
   "source": [
    "data_lda.show_topic(2)"
   ]
  },
  {
   "cell_type": "code",
   "execution_count": 7,
   "metadata": {
    "collapsed": false
   },
   "outputs": [
    {
     "data": {
      "text/plain": [
       "'0.005*爱 + 0.005*再 + 0.005*好 + 0.005*最后 + 0.005*一种 + 0.004*风 + 0.004*回忆 + 0.004*知道 + 0.003*做 + 0.003*眼泪'"
      ]
     },
     "execution_count": 7,
     "metadata": {},
     "output_type": "execute_result"
    }
   ],
   "source": [
    "data_lda.print_topic(2)"
   ]
  },
  {
   "cell_type": "code",
   "execution_count": null,
   "metadata": {
    "collapsed": true
   },
   "outputs": [],
   "source": []
  }
 ],
 "metadata": {
  "kernelspec": {
   "display_name": "Python [Root]",
   "language": "python",
   "name": "Python [Root]"
  },
  "language_info": {
   "codemirror_mode": {
    "name": "ipython",
    "version": 3
   },
   "file_extension": ".py",
   "mimetype": "text/x-python",
   "name": "python",
   "nbconvert_exporter": "python",
   "pygments_lexer": "ipython3",
   "version": "3.5.2"
  }
 },
 "nbformat": 4,
 "nbformat_minor": 0
}
