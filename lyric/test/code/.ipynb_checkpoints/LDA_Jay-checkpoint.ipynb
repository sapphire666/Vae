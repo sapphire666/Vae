{
 "cells": [
  {
   "cell_type": "code",
   "execution_count": 1,
   "metadata": {
    "collapsed": true
   },
   "outputs": [],
   "source": [
    "# -*- coding: utf-8 -*-\n",
    "\"\"\"\n",
    "Created on Thu Jul 21 09:42:06 2016\n",
    "\n",
    "@author: QingLing\n",
    "\"\"\"\n",
    "\n",
    "import pandas as pd\n",
    "from gensim import  corpora, models\n",
    "\n",
    "inputfile = 'jay_cut.txt'\n",
    "stoplist = 'stoplist.txt'\n",
    "\n",
    "data = pd.read_csv(inputfile,encoding = 'utf-8', header =None)\n",
    "stop = pd.read_csv(stoplist, encoding = 'utf-8', header = None, sep = 'tipdm',engine='python')\n",
    "stop = [' ', '','☆','〖','〗','周杰伦','歌词', '作曲'] + list(stop[0])\n",
    "\n",
    "data[1] = data[0].apply(lambda s: s.split(' ')) #定义一个分割函数，然后用apply广播\n",
    "data[2] = data[1].apply(lambda x: [i for i in x if i not in stop]) #逐词判断是否停用词，思路同上\n",
    "\n",
    "\n",
    "data_dict = corpora.Dictionary(data[2])\n",
    "data_corpus = [data_dict.doc2bow(i) for i in data[2]]\n",
    "data_lda = models.LdaModel(data_corpus, num_topics=3, id2word=data_dict)\n",
    "\n",
    "#for i in range(3):\n",
    "#    data_lda.show_topic(i) #输出每个主题"
   ]
  },
  {
   "cell_type": "code",
   "execution_count": 2,
   "metadata": {
    "collapsed": false
   },
   "outputs": [
    {
     "data": {
      "text/plain": [
       "[('想', 0.0082799758745933337),\n",
       " ('爱', 0.0070450613302048236),\n",
       " ('知道', 0.0059477792574523687),\n",
       " ('走', 0.0041711871186847372),\n",
       " ('雨', 0.0038147457539801856),\n",
       " ('中', 0.0036379791418781567),\n",
       " ('最后', 0.0035055727135473325),\n",
       " ('想要', 0.0034576220484305951),\n",
       " ('后', 0.0034040065880313079),\n",
       " ('娘子', 0.003193497812543467)]"
      ]
     },
     "execution_count": 2,
     "metadata": {},
     "output_type": "execute_result"
    }
   ],
   "source": [
    "data_lda.show_topic(0)"
   ]
  },
  {
   "cell_type": "code",
   "execution_count": 4,
   "metadata": {
    "collapsed": false
   },
   "outputs": [
    {
     "data": {
      "text/plain": [
       "'0.008*想 + 0.007*爱 + 0.006*知道 + 0.004*走 + 0.004*雨 + 0.004*中 + 0.004*最后 + 0.003*想要 + 0.003*后 + 0.003*娘子'"
      ]
     },
     "execution_count": 4,
     "metadata": {},
     "output_type": "execute_result"
    }
   ],
   "source": [
    "data_lda.print_topic(0)"
   ]
  },
  {
   "cell_type": "code",
   "execution_count": 5,
   "metadata": {
    "collapsed": false
   },
   "outputs": [
    {
     "data": {
      "text/plain": [
       "[('爱', 0.0067938624496418363),\n",
       " ('时间', 0.0064565575095389283),\n",
       " ('再', 0.0063684336294913962),\n",
       " ('忘记', 0.0048678546571188416),\n",
       " ('梦', 0.0048339660099883984),\n",
       " ('脸', 0.0041064369556353449),\n",
       " ('一直', 0.0039880431869730847),\n",
       " ('眼泪', 0.0039678249225108672),\n",
       " ('太', 0.0039420380783478154),\n",
       " ('我会', 0.0038618619880470277)]"
      ]
     },
     "execution_count": 5,
     "metadata": {},
     "output_type": "execute_result"
    }
   ],
   "source": [
    "data_lda.show_topic(1)"
   ]
  },
  {
   "cell_type": "code",
   "execution_count": 6,
   "metadata": {
    "collapsed": false
   },
   "outputs": [
    {
     "data": {
      "text/plain": [
       "'0.007*爱 + 0.006*时间 + 0.006*再 + 0.005*忘记 + 0.005*梦 + 0.004*脸 + 0.004*一直 + 0.004*眼泪 + 0.004*太 + 0.004*我会'"
      ]
     },
     "execution_count": 6,
     "metadata": {},
     "output_type": "execute_result"
    }
   ],
   "source": [
    "data_lda.print_topic(1)"
   ]
  },
  {
   "cell_type": "code",
   "execution_count": 7,
   "metadata": {
    "collapsed": false
   },
   "outputs": [
    {
     "data": {
      "text/plain": [
       "[('想', 0.0083180147087446726),\n",
       " ('回忆', 0.0081281089392782283),\n",
       " ('时间', 0.0048019724944730648),\n",
       " ('却', 0.0044906768919787711),\n",
       " ('比较', 0.004246198184866979),\n",
       " ('过去', 0.0041609400059519465),\n",
       " ('风', 0.0038681013264811625),\n",
       " ('一种', 0.0034102956376658171),\n",
       " ('画面', 0.0032324744806626355),\n",
       " ('大全', 0.0031676543116359499)]"
      ]
     },
     "execution_count": 7,
     "metadata": {},
     "output_type": "execute_result"
    }
   ],
   "source": [
    "data_lda.show_topic(2)"
   ]
  },
  {
   "cell_type": "code",
   "execution_count": 8,
   "metadata": {
    "collapsed": false
   },
   "outputs": [
    {
     "data": {
      "text/plain": [
       "'0.008*想 + 0.008*回忆 + 0.005*时间 + 0.004*却 + 0.004*比较 + 0.004*过去 + 0.004*风 + 0.003*一种 + 0.003*画面 + 0.003*大全'"
      ]
     },
     "execution_count": 8,
     "metadata": {},
     "output_type": "execute_result"
    }
   ],
   "source": [
    "data_lda.print_topic(2)"
   ]
  },
  {
   "cell_type": "code",
   "execution_count": null,
   "metadata": {
    "collapsed": true
   },
   "outputs": [],
   "source": []
  }
 ],
 "metadata": {
  "anaconda-cloud": {},
  "kernelspec": {
   "display_name": "Python [Root]",
   "language": "python",
   "name": "Python [Root]"
  },
  "language_info": {
   "codemirror_mode": {
    "name": "ipython",
    "version": 3
   },
   "file_extension": ".py",
   "mimetype": "text/x-python",
   "name": "python",
   "nbconvert_exporter": "python",
   "pygments_lexer": "ipython3",
   "version": "3.5.2"
  }
 },
 "nbformat": 4,
 "nbformat_minor": 0
}
