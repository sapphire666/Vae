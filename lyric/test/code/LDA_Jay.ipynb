{
 "cells": [
  {
   "cell_type": "code",
   "execution_count": 1,
   "metadata": {
    "collapsed": true
   },
   "outputs": [],
   "source": [
    "# -*- coding: utf-8 -*-\n",
    "\"\"\"\n",
    "Created on Thu Jul 21 09:42:06 2016\n",
    "\n",
    "@author: QingLing\n",
    "\"\"\"\n",
    "\n",
    "import pandas as pd\n",
    "from gensim import  corpora, models\n",
    "\n",
    "inputfile = 'jay_cut.txt'\n",
    "stoplist = 'stoplist.txt'\n",
    "\n",
    "data = pd.read_csv(inputfile,encoding = 'utf-8', header =None)\n",
    "stop = pd.read_csv(stoplist, encoding = 'utf-8', header = None, sep = 'tipdm',engine='python')\n",
    "stop = [' ', '','☆','〖','〗','周杰伦','歌词', '作曲'] + list(stop[0])\n",
    "\n",
    "data[1] = data[0].apply(lambda s: s.split(' ')) #定义一个分割函数，然后用apply广播\n",
    "data[2] = data[1].apply(lambda x: [i for i in x if i not in stop]) #逐词判断是否停用词，思路同上\n",
    "\n",
    "\n",
    "data_dict = corpora.Dictionary(data[2])\n",
    "data_corpus = [data_dict.doc2bow(i) for i in data[2]]\n",
    "data_lda = models.LdaModel(data_corpus, num_topics=3, id2word=data_dict)\n",
    "\n",
    "#for i in range(3):\n",
    "#    data_lda.show_topic(i) #输出每个主题"
   ]
  },
  {
   "cell_type": "code",
   "execution_count": 2,
   "metadata": {
    "collapsed": false
   },
   "outputs": [
    {
     "data": {
      "text/plain": [
       "[('知道', 0.0078347295897038729),\n",
       " ('时间', 0.0054031631898831794),\n",
       " ('爱', 0.0050701417351727207),\n",
       " ('想要', 0.0044793038808768129),\n",
       " ('笑', 0.0040554684890368401),\n",
       " ('忘记', 0.0038754618193947202),\n",
       " ('只', 0.0035371341020139654),\n",
       " ('好', 0.0032843478664093145),\n",
       " ('感觉', 0.0028403048280034311),\n",
       " ('慢慢', 0.002819529978837641)]"
      ]
     },
     "execution_count": 2,
     "metadata": {},
     "output_type": "execute_result"
    }
   ],
   "source": [
    "data_lda.show_topic(0)"
   ]
  },
  {
   "cell_type": "code",
   "execution_count": 3,
   "metadata": {
    "collapsed": false
   },
   "outputs": [
    {
     "data": {
      "text/plain": [
       "'0.008*知道 + 0.005*时间 + 0.005*爱 + 0.004*想要 + 0.004*笑 + 0.004*忘记 + 0.004*只 + 0.003*好 + 0.003*感觉 + 0.003*慢慢'"
      ]
     },
     "execution_count": 3,
     "metadata": {},
     "output_type": "execute_result"
    }
   ],
   "source": [
    "data_lda.print_topic(0)"
   ]
  },
  {
   "cell_type": "code",
   "execution_count": 4,
   "metadata": {
    "collapsed": false
   },
   "outputs": [
    {
     "data": {
      "text/plain": [
       "[('想', 0.0051587070549428361),\n",
       " ('再', 0.0046487614245080333),\n",
       " ('一种', 0.0044414571266256876),\n",
       " ('眼泪', 0.0044327878729779942),\n",
       " ('回忆', 0.0043354683965614333),\n",
       " ('后', 0.0033823092647352641),\n",
       " ('笑', 0.0033209837340913836),\n",
       " ('爱', 0.0032588538311477794),\n",
       " ('走', 0.0032352114384773646),\n",
       " ('比较', 0.0032250080263345336)]"
      ]
     },
     "execution_count": 4,
     "metadata": {},
     "output_type": "execute_result"
    }
   ],
   "source": [
    "data_lda.show_topic(1)"
   ]
  },
  {
   "cell_type": "code",
   "execution_count": 5,
   "metadata": {
    "collapsed": false
   },
   "outputs": [
    {
     "data": {
      "text/plain": [
       "'0.005*想 + 0.005*再 + 0.004*一种 + 0.004*眼泪 + 0.004*回忆 + 0.003*后 + 0.003*笑 + 0.003*爱 + 0.003*走 + 0.003*比较'"
      ]
     },
     "execution_count": 5,
     "metadata": {},
     "output_type": "execute_result"
    }
   ],
   "source": [
    "data_lda.print_topic(1)"
   ]
  },
  {
   "cell_type": "code",
   "execution_count": 6,
   "metadata": {
    "collapsed": false
   },
   "outputs": [
    {
     "data": {
      "text/plain": [
       "[('想', 0.01039909416550514),\n",
       " ('爱', 0.0082813186629763919),\n",
       " ('时间', 0.0071490483615265351),\n",
       " ('梦', 0.0057804880018042888),\n",
       " ('雨', 0.0046355429344829557),\n",
       " ('再', 0.0046351714524360483),\n",
       " ('回忆', 0.0046272853298747795),\n",
       " ('写', 0.0042213736301775356),\n",
       " ('带走', 0.004219905558515244),\n",
       " ('做', 0.0041871531913005664)]"
      ]
     },
     "execution_count": 6,
     "metadata": {},
     "output_type": "execute_result"
    }
   ],
   "source": [
    "data_lda.show_topic(2)"
   ]
  },
  {
   "cell_type": "code",
   "execution_count": 7,
   "metadata": {
    "collapsed": false
   },
   "outputs": [
    {
     "data": {
      "text/plain": [
       "'0.010*想 + 0.008*爱 + 0.007*时间 + 0.006*梦 + 0.005*雨 + 0.005*再 + 0.005*回忆 + 0.004*写 + 0.004*带走 + 0.004*做'"
      ]
     },
     "execution_count": 7,
     "metadata": {},
     "output_type": "execute_result"
    }
   ],
   "source": [
    "data_lda.print_topic(2)"
   ]
  },
  {
   "cell_type": "code",
   "execution_count": null,
   "metadata": {
    "collapsed": true
   },
   "outputs": [],
   "source": []
  }
 ],
 "metadata": {
  "anaconda-cloud": {},
  "kernelspec": {
   "display_name": "Python [Root]",
   "language": "python",
   "name": "Python [Root]"
  },
  "language_info": {
   "codemirror_mode": {
    "name": "ipython",
    "version": 3
   },
   "file_extension": ".py",
   "mimetype": "text/x-python",
   "name": "python",
   "nbconvert_exporter": "python",
   "pygments_lexer": "ipython3",
   "version": "3.5.2"
  }
 },
 "nbformat": 4,
 "nbformat_minor": 0
}
